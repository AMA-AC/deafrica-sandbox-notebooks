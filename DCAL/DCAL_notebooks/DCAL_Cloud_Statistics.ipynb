{
 "cells": [
  {
   "cell_type": "markdown",
   "metadata": {
    "pycharm": {}
   },
   "source": [
    "<a id=\"top\"></a>\n",
    "# Cloud Statistics\n",
    "\n",
    "<hr>\n",
    "\n",
    "# Notebook Summary\n",
    "\n",
    "This notebook explores Landsat Data and reports cloud statistics \n",
    "for selected regions for a selected time period. This is valuable information for performing analyses. \n",
    "For example, if there are extensive clouds for a season it may significantly impact the \n",
    "mosaic product or index values. Another example is that a user may want to find a single \n",
    "date when there are few clouds to assess land features.\n",
    "\n",
    "<hr>\n",
    "\n",
    "# Index\n",
    "\n",
    "* [Import Dependencies and Connect to the Data Cube](#import)\n",
    "* [Define the Extents of the Analysis](#define_extents)\n",
    "* [Load the Data](#define)\n",
    "* [Create the CLoud mask](#define)\n",
    "* [Calculate the Cloud Coverage Percentage for Each Pixel](#calc_cloud_coverage)\n",
    "* [Create a Table of Cloud Coverage Percentage for Each Date](#create_cloud_cov_table)\n",
    "* [Create a Plot of Cloud Coverage Percentage for Each Date](#plot_cloud_cov)\n",
    "* [Create an Image of the Percent of Clear Views Per Pixel for the Entire Time Period](#pct_clear_img)\n",
    "* [Review an RGB Scene for a Selected Time Slice](#rgb_time_slice)"
   ]
  },
  {
   "cell_type": "markdown",
   "metadata": {
    "pycharm": {}
   },
   "source": [
    "## <span id=\"import\">Import Dependencies and Connect to the Data Cube [&#9652;](#top)</span> "
   ]
  },
  {
   "cell_type": "code",
   "execution_count": null,
   "metadata": {
    "pycharm": {}
   },
   "outputs": [],
   "source": [
    "# Load Data Cube Configuration\n",
    "import datacube\n",
    "import sys\n",
    "import os\n",
    "\n",
    "# Supress Warnings.\n",
    "import warnings\n",
    "warnings.filterwarnings('ignore')\n",
    "\n",
    "import numpy as np\n",
    "import xarray as xr\n",
    "import pandas as pd\n",
    "import matplotlib.pyplot as plt\n",
    "from odc.ui import DcViewer\n",
    "from datacube.helpers import write_geotiff\n",
    "from datacube.storage.masking import make_mask\n",
    "\n",
    "\n",
    "#import DE Africa script\n",
    "sys.path.append('../../Scripts')\n",
    "from deafrica_plotting import display_map\n",
    "from deafrica_plotting import rgb\n",
    "\n",
    "\n",
    "#import DCAL utility scripts\n",
    "sys.path.append('../DCAL_utils')\n",
    "# from dc_load import load_multiplatform"
   ]
  },
  {
   "cell_type": "code",
   "execution_count": null,
   "metadata": {},
   "outputs": [],
   "source": [
    "dc = datacube.Datacube(app=\"DCAL Cloud Statistics\")"
   ]
  },
  {
   "cell_type": "markdown",
   "metadata": {
    "pycharm": {}
   },
   "source": [
    "## <span id=\"define_extents\">Define the Extents of the Analysis [&#9652;](#top)</span>"
   ]
  },
  {
   "cell_type": "markdown",
   "metadata": {
    "pycharm": {}
   },
   "source": [
    "<p style=\"color:red\";><b>CHANGE INPUTS BELOW"
   ]
  },
  {
   "cell_type": "code",
   "execution_count": null,
   "metadata": {
    "pycharm": {}
   },
   "outputs": [],
   "source": [
    "# Select an analysis region (Lat-Lon) within the extents listed above. \n",
    "# Select a time period (Min-Max) within the extents listed above (Year-Month-Day)\n",
    "# This region and time period will be used for the cloud assessment\n",
    "\n",
    "\n",
    "latitude = 1.1428\n",
    "longitude = 34.5565\n",
    "buffer = 0.10\n",
    "\n",
    "x=(longitude-buffer, longitude+buffer)\n",
    "y=(latitude+buffer, latitude-buffer)\n",
    "\n",
    "# Time Period\n",
    "time_extents = ('2014-01-01', '2014-12-31')"
   ]
  },
  {
   "cell_type": "markdown",
   "metadata": {
    "pycharm": {}
   },
   "source": [
    "**Visualize the selected area**"
   ]
  },
  {
   "cell_type": "code",
   "execution_count": null,
   "metadata": {
    "pycharm": {}
   },
   "outputs": [],
   "source": [
    "display_map(x,y)\n",
    "\n",
    "#click anywhere on map to see Latitude and Longitude for that point"
   ]
  },
  {
   "cell_type": "code",
   "execution_count": null,
   "metadata": {},
   "outputs": [],
   "source": []
  },
  {
   "cell_type": "markdown",
   "metadata": {},
   "source": [
    "## Load the dataset"
   ]
  },
  {
   "cell_type": "code",
   "execution_count": null,
   "metadata": {},
   "outputs": [],
   "source": [
    "landsat_dataset = dc.load(product = 'ls8_usgs_sr_scene',\n",
    "                          measurements = ['red', 'green', 'blue', 'pixel_qa'],\n",
    "                          y = y,\n",
    "                          x = x,\n",
    "                          time = time_extents,\n",
    "                          output_crs='EPSG:6933',\n",
    "                          resolution=(-30,30))"
   ]
  },
  {
   "cell_type": "markdown",
   "metadata": {
    "pycharm": {}
   },
   "source": [
    "## Create cloud mask"
   ]
  },
  {
   "cell_type": "code",
   "execution_count": null,
   "metadata": {},
   "outputs": [],
   "source": [
    "#set which quality flags we want to use\n",
    "quality_flags = {'cloud': 'no_cloud',\n",
    "                 'cloud_shadow': 'no_cloud_shadow',\n",
    "                 'nodata': False}\n",
    "\n",
    "#create cloud mask\n",
    "Cloud_mask = make_mask(landsat_dataset.pixel_qa, **quality_flags)\n",
    "             "
   ]
  },
  {
   "cell_type": "code",
   "execution_count": null,
   "metadata": {},
   "outputs": [],
   "source": [
    "Cloud_mask"
   ]
  },
  {
   "cell_type": "markdown",
   "metadata": {},
   "source": [
    "## Calculate the Cloud Coverage Percentage for Each Pixel"
   ]
  },
  {
   "cell_type": "code",
   "execution_count": null,
   "metadata": {},
   "outputs": [],
   "source": [
    "#create list of observation dates\n",
    "times = list(landsat_dataset.time.values)\n",
    "\n",
    "#create list of scenes\n",
    "scene_slice_list = list(map(lambda t: landsat_dataset.sel(time = t), times))\n",
    "\n",
    "#Find where each pixle is clear\n",
    "clean_mask_list = [Cloud_mask.sel(time=time).values for time in Cloud_mask.time]\n",
    "\n",
    "# Calculate the percentage of observation which are not cloud.\n",
    "percentage_list = [int(Cloud_mask.mean()*100) for Cloud_mask in clean_mask_list]\n",
    "clean_pixel_count_list = list(map(np.sum, clean_mask_list))\n",
    "\n",
    "data = {\"times\": times,\n",
    "        \"clean_percentage\": percentage_list,\n",
    "        \"clean_count\": clean_pixel_count_list }\n",
    "    \n",
    "coverage_table = pd.DataFrame(data=data, columns = [\"times\", \"clean_percentage\", \"clean_count\"])\n"
   ]
  },
  {
   "cell_type": "markdown",
   "metadata": {
    "pycharm": {}
   },
   "source": [
    "## <span id=\"create_cloud_cov_table\">Create a Table of Cloud Coverage Percentage for Each Date[&#9652;](#top)</span>"
   ]
  },
  {
   "cell_type": "code",
   "execution_count": null,
   "metadata": {
    "pycharm": {}
   },
   "outputs": [],
   "source": [
    "pd.set_option('display.max_rows', len(coverage_table))\n",
    "coverage_table"
   ]
  },
  {
   "cell_type": "markdown",
   "metadata": {
    "pycharm": {}
   },
   "source": [
    "## <span id=\"plot_cloud_cov\">Create a Plot of Cloud Coverage Percentage for Each Date[&#9652;](#top)</span>"
   ]
  },
  {
   "cell_type": "code",
   "execution_count": null,
   "metadata": {
    "pycharm": {}
   },
   "outputs": [],
   "source": [
    "plt.figure(figsize = (15,5))\n",
    "plt.plot(coverage_table[\"times\"].values, coverage_table[\"clean_percentage\"].values, 'bo', markersize=8)\n",
    "plt.title(\"Percentage of Clean (not cloud) Pixels for Each Time Slice\")\n",
    "plt.show()"
   ]
  },
  {
   "cell_type": "markdown",
   "metadata": {
    "pycharm": {}
   },
   "source": [
    "## <span id=\"pct_clear_img\">Create an Image of the Percent of Clear Views Per Pixel for the Entire Time Period[&#9652;](#top)</span>"
   ]
  },
  {
   "cell_type": "code",
   "execution_count": null,
   "metadata": {
    "pycharm": {}
   },
   "outputs": [],
   "source": [
    "# We are really plotting the fraction of times that are not no_data which are clear.\n",
    "# This is done to account for regions filled with no_data  - such as when querying across path/rows.\n",
    "\n",
    "# find where unmasked landsat in NOT no-data\n",
    "data_mask = (landsat_dataset['red'] != -9999)\n",
    "\n",
    "#find where no-data mask and could mask overlap\n",
    "merged_mask = Cloud_mask & data_mask\n",
    "clear_and_data_per_px = merged_mask.sum(dim='time')\n",
    "data_per_px = data_mask.sum(dim='time')\n",
    "frac_clear_per_data_per_px = clear_and_data_per_px / data_per_px\n",
    "num_cbar_ticks = 8 # The number of ticks to use for the colorbar.\n",
    "quad_mesh = (frac_clear_per_data_per_px).plot(figsize=(12,10),cmap = \"RdYlGn\", vmin=0, vmax=1)\n",
    "plt.show()"
   ]
  },
  {
   "cell_type": "code",
   "execution_count": null,
   "metadata": {
    "pycharm": {}
   },
   "outputs": [],
   "source": [
    "print(\"Percent of pixels with data: {:.2%}\".format(data_mask.mean().values))\n",
    "print(\"Percent of pixels that are clear: {:.2%}\".format(Cloud_mask.mean().values))\n",
    "print(\"Percent of pixels that are clear and have data: {:.2%}\".format(merged_mask.mean().values))"
   ]
  },
  {
   "cell_type": "code",
   "execution_count": null,
   "metadata": {
    "pycharm": {}
   },
   "outputs": [],
   "source": [
    "(frac_clear_per_data_per_px == 0).sum() / frac_clear_per_data_per_px.count()\n",
    "print(\"Number of pixels which have no non-cloud data:\", (frac_clear_per_data_per_px == 0).sum().values)\n",
    "print(\"Total number of pixels:\", frac_clear_per_data_per_px.count().values)"
   ]
  },
  {
   "cell_type": "markdown",
   "metadata": {
    "pycharm": {}
   },
   "source": [
    "## <span id=\"rgb_time_slice\">Review an RGB Scene for a Selected Time Slice[&#9652;](#top)</span>"
   ]
  },
  {
   "cell_type": "code",
   "execution_count": null,
   "metadata": {},
   "outputs": [],
   "source": [
    "#apply Cloud mask to Landsat data\n",
    "masked_landsat_dataset = landsat_dataset.where(merged_mask)"
   ]
  },
  {
   "cell_type": "code",
   "execution_count": null,
   "metadata": {
    "pycharm": {}
   },
   "outputs": [],
   "source": [
    "rgb(masked_landsat_dataset, index=[5,7])"
   ]
  },
  {
   "cell_type": "markdown",
   "metadata": {},
   "source": [
    "## Notes on modifications made moving from ARDC to DE Africa\n",
    "\n",
    "- Pulled appart  build_cloud_coverage_table_landsat fuction in-order to rebuild using DE Africa dc.load and datacube.storage.masking make_mask fuction\n",
    "- Move all module imports to start of notebook\n",
    "- Removed code to view extent of datacube replaced with mapviewer that can be used to visualise spatial extent of data\n",
    "- Changed rgb plot fuction to DE Africa rgb plot fuction\n"
   ]
  },
  {
   "cell_type": "code",
   "execution_count": null,
   "metadata": {},
   "outputs": [],
   "source": []
  }
 ],
 "metadata": {
  "kernelspec": {
   "display_name": "Python 3",
   "language": "python",
   "name": "python3"
  },
  "language_info": {
   "codemirror_mode": {
    "name": "ipython",
    "version": 3
   },
   "file_extension": ".py",
   "mimetype": "text/x-python",
   "name": "python",
   "nbconvert_exporter": "python",
   "pygments_lexer": "ipython3",
   "version": "3.6.8"
  },
  "pycharm": {
   "stem_cell": {
    "cell_type": "raw",
    "metadata": {
     "collapsed": false
    },
    "source": []
   }
  }
 },
 "nbformat": 4,
 "nbformat_minor": 4
}
