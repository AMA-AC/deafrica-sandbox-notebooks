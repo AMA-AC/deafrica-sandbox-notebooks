{
 "cells": [
  {
   "cell_type": "markdown",
   "metadata": {},
   "source": [
    "# Water Extent Pixel Statistics"
   ]
  },
  {
   "cell_type": "markdown",
   "metadata": {},
   "source": [
    "## What Does this notebook do?\n",
    "\n",
    "This notebook runs the WOfS water classifier over both a stack of landsat observations and a median image generated from that time period. Statistical analysis is the conducted on the classified image(s) returning information on the number and percentage of pixles classified as water."
   ]
  },
  {
   "cell_type": "code",
   "execution_count": 1,
   "metadata": {},
   "outputs": [],
   "source": [
    "# Load Data Cube Configuration\n",
    "import datacube\n",
    "# Enable importing of utilities.\n",
    "import sys\n",
    "import os\n",
    "\n",
    "# Supress Warnings.\n",
    "import warnings\n",
    "warnings.filterwarnings('ignore')\n",
    "\n",
    "import numpy as np\n",
    "import xarray as xr\n",
    "import pandas as pd\n",
    "import matplotlib.pyplot as plt\n",
    "from odc.ui import DcViewer\n",
    "from datacube.helpers import write_geotiff\n",
    "\n",
    "\n",
    "#import DE Africa script\n",
    "sys.path.append('../Scripts')\n",
    "from deafrica_plotting import display_map\n",
    "from deafrica_plotting import rgb\n",
    "\n",
    "\n",
    "#import DCAL utility scripts\n",
    "sys.path.append('../DCAL_utils')\n",
    "from plotter_utils import figure_ratio, retrieve_or_create_fig_ax, intersection_threshold_plot, month_names_long\n",
    "from dc_time import _n64_to_datetime\n",
    "from clean_mask import landsat_qa_clean_mask\n",
    "from dc_mosaic import create_median_mosaic\n",
    "from dc_water_classifier import wofs_classify\n",
    "from dc_fractional_coverage_classifier import frac_coverage_classify "
   ]
  },
  {
   "cell_type": "code",
   "execution_count": 2,
   "metadata": {},
   "outputs": [],
   "source": [
    "dc = datacube.Datacube(app=\"Brain water pixel stats\")"
   ]
  },
  {
   "cell_type": "markdown",
   "metadata": {},
   "source": [
    "<p style=\"color:red\";><b>CHANGE INPUTS BELOW"
   ]
  },
  {
   "cell_type": "code",
   "execution_count": 3,
   "metadata": {},
   "outputs": [],
   "source": [
    "# Select an analysis region (Lat-Lon) within the extents listed above. \n",
    "\n",
    "# Define the area of interest\n",
    "\n",
    "#Part of lake Kojweri, Uganda\n",
    "# latitude = 1.6312\n",
    "# longitude = 33.2295\n",
    "# buffer = 0.16\n",
    "\n",
    "\n",
    "#Kenya Lake Baringo\n",
    "latitude = 0.5493\n",
    "longitude = 36.0784\n",
    "buffer = 0.10\n",
    "\n",
    "x=(longitude-buffer, longitude+buffer)\n",
    "y=(latitude+buffer, latitude-buffer)\n",
    "\n",
    "\n",
    "# Time Period\n",
    "time_extents = ('2014-01-20', '2014-12-22')\n"
   ]
  },
  {
   "cell_type": "code",
   "execution_count": 4,
   "metadata": {},
   "outputs": [
    {
     "data": {
      "text/html": [
       "<div style=\"width:100%;\"><div style=\"position:relative;width:100%;height:0;padding-bottom:60%;\"><iframe src=\"data:text/html;charset=utf-8;base64,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\" style=\"position:absolute;width:100%;height:100%;left:0;top:0;border:none !important;\" allowfullscreen webkitallowfullscreen mozallowfullscreen></iframe></div></div>"
      ],
      "text/plain": [
       "<folium.folium.Map at 0x7f90a02a0eb8>"
      ]
     },
     "execution_count": 4,
     "metadata": {},
     "output_type": "execute_result"
    }
   ],
   "source": [
    "display_map(x,y)\n",
    "\n",
    "#note: click anywere on this map to display latitude and longitude"
   ]
  },
  {
   "cell_type": "markdown",
   "metadata": {},
   "source": [
    "## Load the dataset and the required spectral bands or other parameters"
   ]
  },
  {
   "cell_type": "code",
   "execution_count": 5,
   "metadata": {},
   "outputs": [],
   "source": [
    "landsat_dataset = dc.load(product = 'ls8_usgs_sr_scene',\n",
    "                          measurements = ['red', 'green', 'blue', 'nir', 'swir1', 'swir2', 'pixel_qa'],\n",
    "                          y = y,\n",
    "                          x = x,\n",
    "                          time = time_extents,\n",
    "                          output_crs='EPSG:6933',\n",
    "                          resolution=(-30,30)) "
   ]
  },
  {
   "cell_type": "code",
   "execution_count": 6,
   "metadata": {
    "scrolled": true
   },
   "outputs": [
    {
     "data": {
      "text/plain": [
       "<xarray.Dataset>\n",
       "Dimensions:   (time: 37, x: 644, y: 852)\n",
       "Coordinates:\n",
       "  * time      (time) datetime64[ns] 2014-01-25T07:49:41.456630 ... 2014-12-11T07:49:02.755100\n",
       "  * y         (y) float64 8.284e+04 8.282e+04 8.278e+04 ... 5.734e+04 5.732e+04\n",
       "  * x         (x) float64 3.471e+06 3.471e+06 3.471e+06 ... 3.491e+06 3.491e+06\n",
       "Data variables:\n",
       "    red       (time, y, x) int16 579 581 585 623 717 782 ... 479 581 512 399 409\n",
       "    green     (time, y, x) int16 550 537 522 531 575 623 ... 546 560 524 454 484\n",
       "    blue      (time, y, x) int16 311 309 309 347 395 436 ... 242 258 229 195 188\n",
       "    nir       (time, y, x) int16 1611 1629 1545 1476 ... 2247 2202 2291 2461\n",
       "    swir1     (time, y, x) int16 1476 1490 1480 1685 ... 1603 1637 1589 1576\n",
       "    swir2     (time, y, x) int16 1007 999 1036 1222 1326 ... 940 982 990 911 864\n",
       "    pixel_qa  (time, y, x) uint16 322 322 322 322 322 ... 322 322 322 322 322\n",
       "Attributes:\n",
       "    crs:      EPSG:6933"
      ]
     },
     "execution_count": 6,
     "metadata": {},
     "output_type": "execute_result"
    }
   ],
   "source": [
    "# Displays the first few values of each data array to check the content\n",
    "# Latitude and Longitude numbers = number of pixels in each dimension\n",
    "# Time = number of time slices in the dataset\n",
    "\n",
    "landsat_dataset"
   ]
  },
  {
   "cell_type": "markdown",
   "metadata": {},
   "source": [
    "### Mask out clouds and cloud shadows"
   ]
  },
  {
   "cell_type": "code",
   "execution_count": 7,
   "metadata": {},
   "outputs": [],
   "source": [
    "# Define the platform for cloud masking\n",
    "platform = \"LANDSAT_8\"\n",
    "\n",
    "#define CLoud mask\n",
    "cloud_mask = landsat_qa_clean_mask(landsat_dataset, platform=platform)\n",
    "\n",
    "# Land and Water Dataset = Land and Water pixels with NO Clouds and NO Cloud Shadows\n",
    "land_and_water_dataset = landsat_dataset.where(cloud_mask)\n"
   ]
  },
  {
   "cell_type": "markdown",
   "metadata": {},
   "source": [
    "### Generate the Median Mosaic"
   ]
  },
  {
   "cell_type": "code",
   "execution_count": 8,
   "metadata": {},
   "outputs": [],
   "source": [
    "# This is the MEDIAN mosaic\n",
    "land_and_water_composite = create_median_mosaic(land_and_water_dataset, cloud_mask)\n",
    "\n",
    "#add attributes back to median dataset due to numpy bug\n",
    "land_and_water_composite.attrs = land_and_water_dataset.attrs\n",
    "\n",
    "#change Coordinate names to be compatible with modules used latter in this notebook\n",
    "land_and_water_dataset = land_and_water_dataset.rename(name_dict={'x':'longitude','y':'latitude'})\n",
    "land_and_water_composite = land_and_water_composite.rename(name_dict={'x':'longitude','y':'latitude'})"
   ]
  },
  {
   "cell_type": "markdown",
   "metadata": {},
   "source": [
    "### Water Observation from Space (WOFS)\n",
    "Developed by Geoscience Australia"
   ]
  },
  {
   "cell_type": "code",
   "execution_count": 9,
   "metadata": {},
   "outputs": [],
   "source": [
    "#run the WOFS classification over the masked dataset\n",
    "water_classification = wofs_classify(land_and_water_dataset, cloud_mask.values)"
   ]
  },
  {
   "cell_type": "code",
   "execution_count": 10,
   "metadata": {},
   "outputs": [
    {
     "data": {
      "text/plain": [
       "<xarray.Dataset>\n",
       "Dimensions:    (latitude: 852, longitude: 644, time: 37)\n",
       "Coordinates:\n",
       "  * time       (time) datetime64[ns] 2014-01-25T07:49:41.456630 ... 2014-12-11T07:49:02.755100\n",
       "  * latitude   (latitude) float64 8.284e+04 8.282e+04 ... 5.734e+04 5.732e+04\n",
       "  * longitude  (longitude) float64 3.471e+06 3.471e+06 ... 3.491e+06 3.491e+06\n",
       "Data variables:\n",
       "    wofs       (time, latitude, longitude) float64 0.0 0.0 0.0 ... 0.0 0.0 0.0"
      ]
     },
     "execution_count": 10,
     "metadata": {},
     "output_type": "execute_result"
    }
   ],
   "source": [
    "water_classification"
   ]
  },
  {
   "cell_type": "code",
   "execution_count": 11,
   "metadata": {},
   "outputs": [
    {
     "data": {
      "text/plain": [
       "<matplotlib.collections.QuadMesh at 0x7f901b63fa20>"
      ]
     },
     "execution_count": 11,
     "metadata": {},
     "output_type": "execute_result"
    },
    {
     "data": {
      "image/png": "[encoded data removed]",
      "text/plain": [
       "<Figure size 864x864 with 2 Axes>"
      ]
     },
     "metadata": {
      "needs_background": "light"
     },
     "output_type": "display_data"
    }
   ],
   "source": [
    "# Plot of WOFS product\n",
    "# BLUE = 1.0 = Water\n",
    "# WHITE = 0.0 = Non-Water\n",
    "\n",
    "# Find the Maximum water extent for time period\n",
    "water_max_extents = water_classification.max('time')\n",
    "\n",
    "#plot maximum water extent\n",
    "water_max_extents.wofs.plot(figsize=(12,12), cmap='Blues', vmin=0.999, vmax=1.0)"
   ]
  },
  {
   "cell_type": "code",
   "execution_count": 12,
   "metadata": {},
   "outputs": [
    {
     "data": {
      "text/plain": [
       "<matplotlib.collections.QuadMesh at 0x7f9018d5a550>"
      ]
     },
     "execution_count": 12,
     "metadata": {},
     "output_type": "execute_result"
    },
    {
     "data": {
      "image/png": "[encoded data removed]",
      "text/plain": [
       "<Figure size 864x864 with 2 Axes>"
      ]
     },
     "metadata": {
      "needs_background": "light"
     },
     "output_type": "display_data"
    }
   ],
   "source": [
    "# generate Median water extent for time period by running classifier over median mosaic\n",
    "water_classification_median = wofs_classify(land_and_water_composite, mosaic = True)\n",
    "\n",
    "#plot median water extent\n",
    "water_classification_median.wofs.plot(figsize=(12,12), cmap='Blues', vmin=0.999, vmax=1.0)"
   ]
  },
  {
   "cell_type": "markdown",
   "metadata": {},
   "source": [
    "### WOFS Water Counts"
   ]
  },
  {
   "cell_type": "code",
   "execution_count": 13,
   "metadata": {},
   "outputs": [],
   "source": [
    "# WOFS value for water = 0.0 or 1.0\n",
    "# The threshold uses a range of 0.99 to 1.01 to identify water (1.0)\n",
    "\n",
    "wofs_minimum_threshold = 0.99\n",
    "wofs_maximum_threshold = 1.01"
   ]
  },
  {
   "cell_type": "code",
   "execution_count": 14,
   "metadata": {},
   "outputs": [],
   "source": [
    "def threshold_count(da, min_threshold, max_threshold, mask = None):\n",
    "    def count_not_nans(arr):\n",
    "        return np.count_nonzero(~np.isnan(arr))\n",
    "    \n",
    "    in_threshold = np.logical_and( da.values > min_threshold, da.values < max_threshold)\n",
    "    \n",
    "    total_non_cloudy = count_not_nans(da.values) if mask is None else np.sum(mask) \n",
    "    \n",
    "    return dict(total = np.size(da.values),\n",
    "                total_non_cloudy = total_non_cloudy,\n",
    "                inside = np.nansum(in_threshold),\n",
    "                outside = total_non_cloudy - np.nansum(in_threshold)\n",
    "               )    \n",
    "    \n",
    "def threshold_percentage(da, min_threshold, max_threshold, mask = None):\n",
    "    counts = threshold_count(da, min_threshold, max_threshold, mask = mask)\n",
    "    return dict(percent_inside_threshold = (counts[\"inside\"]   / counts[\"total\"]) * 100.0,\n",
    "                percent_outside_threshold = (counts[\"outside\"] / counts[\"total\"]) * 100.0,\n",
    "                percent_clouds = ( 100.0-counts[\"total_non_cloudy\"] / counts[\"total\"] * 100.0))"
   ]
  },
  {
   "cell_type": "code",
   "execution_count": 15,
   "metadata": {},
   "outputs": [
    {
     "data": {
      "text/plain": [
       "{'total': 20301456,\n",
       " 'total_non_cloudy': 20301456,\n",
       " 'inside': 4383694,\n",
       " 'outside': 15917762}"
      ]
     },
     "execution_count": 15,
     "metadata": {},
     "output_type": "execute_result"
    }
   ],
   "source": [
    "# COUNT = number of pixels in each category\n",
    "# INSIDE = Number of water pixels\n",
    "# OUTSIDE = Number of NON water pixels\n",
    "threshold_count(water_classification.wofs,wofs_minimum_threshold,wofs_maximum_threshold)"
   ]
  },
  {
   "cell_type": "code",
   "execution_count": 16,
   "metadata": {},
   "outputs": [
    {
     "data": {
      "text/plain": [
       "{'percent_inside_threshold': 21.59300298461352,\n",
       " 'percent_outside_threshold': 78.40699701538648,\n",
       " 'percent_clouds': 0.0}"
      ]
     },
     "execution_count": 16,
     "metadata": {},
     "output_type": "execute_result"
    }
   ],
   "source": [
    "# PERCENTAGE = percent of pixels in each category\n",
    "threshold_percentage(water_classification.wofs,wofs_minimum_threshold,wofs_maximum_threshold)"
   ]
  },
  {
   "cell_type": "markdown",
   "metadata": {},
   "source": [
    "## GeoTIFF Output Products"
   ]
  },
  {
   "cell_type": "markdown",
   "metadata": {},
   "source": [
    "<p style=\"color:red\";><b>CHANGE INPUTS BELOW"
   ]
  },
  {
   "cell_type": "code",
   "execution_count": 17,
   "metadata": {},
   "outputs": [],
   "source": [
    "#Save to Geotiff \n",
    "# Remove the comment to create a GeoTIFF output product\n",
    "# Change the name of the output file, or it will be overwritten for each run \n",
    "\n",
    "Output_dataset = water_max_extents #Change dataset here to save different output\n",
    "\n",
    "#add attributes back to median dataset due to numpy bug\n",
    "Output_dataset.attrs = land_and_water_dataset.attrs\n",
    "Output_dataset = Output_dataset.rename(name_dict={'longitude':'x','latitude':'y'}) #change coordinate names back in order to save to geotiff\n",
    "\n",
    "#set output directory, if it dosn't exist create\n",
    "output_dir = '../output/geotiffs'\n",
    "if not os.path.exists(output_dir):\n",
    "    os.makedirs(output_dir)\n",
    "    \n",
    "#Set file name\n",
    "# Change the name of the output file, or it will be overwritten for each run \n",
    "output_filename =  output_dir + '/DEMO_median_WOFS_extent.tif' \n",
    "    \n",
    "#run command to save to file\n",
    "#write_geotiff(output_filename, Output_dataset)  ##REMOVE COMMENT TO SAVE TO FILE\n"
   ]
  },
  {
   "cell_type": "markdown",
   "metadata": {},
   "source": [
    "## Notes on modifications made moving from ARDC to DE Africa\n",
    "\n",
    "- Replace dc.load fuction with DE Africa load\n",
    "- Move all module imports to start of notebook\n",
    "- Removed code to view extent of datacube replaced with mapviewer that can be used to visualise spatial extent of data\n",
    "- Removed code to classify a median image with Fractional Cover, becasue it did not seem to relate to the rest of the workflow in the notebook\n",
    "- replaced save to geotiff fuction with DE Africa fuction"
   ]
  },
  {
   "cell_type": "code",
   "execution_count": null,
   "metadata": {},
   "outputs": [],
   "source": []
  }
 ],
 "metadata": {
  "kernelspec": {
   "display_name": "Python 3",
   "language": "python",
   "name": "python3"
  },
  "language_info": {
   "codemirror_mode": {
    "name": "ipython",
    "version": 3
   },
   "file_extension": ".py",
   "mimetype": "text/x-python",
   "name": "python",
   "nbconvert_exporter": "python",
   "pygments_lexer": "ipython3",
   "version": "3.6.8"
  }
 },
 "nbformat": 4,
 "nbformat_minor": 4
}
